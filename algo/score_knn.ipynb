{
 "cells": [
  {
   "cell_type": "code",
   "execution_count": null,
   "metadata": {},
   "outputs": [],
   "source": [
    "import pandas as pd\n",
    "stores = pd.read_csv(\"./data/lifestylegroup_final_tmp.csv\", engine=\"python\")"
   ]
  },
  {
   "cell_type": "code",
   "execution_count": null,
   "metadata": {},
   "outputs": [],
   "source": [
    "stores"
   ]
  },
  {
   "cell_type": "code",
   "execution_count": null,
   "metadata": {},
   "outputs": [],
   "source": [
    "\n",
    "import json\n",
    "import pandas as pd\n",
    "import os\n",
    "import shutil\n",
    "\n",
    "\n",
    "\n",
    "DATA_DIR = \"./data\"\n",
    "DATA_FILE = os.path.join(DATA_DIR, \"data.json\")\n",
    "DUMP_FILE = os.path.join(DATA_DIR, \"dump.pkl\")\n",
    "\n",
    "\n",
    "store_columns = (\n",
    "    \"id\",  # 음식점 고유번호\n",
    "    \"store_name\",  # 음식점 이름\n",
    "    \"branch\",  # 음식점 지점 여부\n",
    "    \"area\",  # 음식점 위치\n",
    "    \"tel\",  # 음식점 번호\n",
    "    \"address\",  # 음식점 주소\n",
    "    \"latitude\",  # 음식점 위도\n",
    "    \"longitude\",  # 음식점 경도\n",
    "    \"category\",  # 음식점 카테고리\n",
    ")\n",
    "\n",
    "review_columns = (\n",
    "    \"id\",  # 리뷰 고유번호\n",
    "    \"store\",  # 음식점 고유번호 (FK)\n",
    "    \"user\",  # 유저 고유번호 (Fk)\n",
    "    \"score\",  # 평점\n",
    "    \"content\",  # 리뷰 내용\n",
    "    \"reg_time\",  # 리뷰 등록 시간\n",
    ")\n",
    "\n",
    "menu_columns = (\n",
    "    \"id\",  # 메뉴 고유번호\n",
    "    \"store\",  # 음식점 고유번호 (FK)\n",
    "    \"menu_name\", # 메뉴 이름\n",
    "    \"price\",  # 메뉴 가격\n",
    ")\n",
    "\n",
    "\n",
    "user_columns = (\n",
    "    \"id\",  # 유저 고유번호\n",
    "    \"gender\",  # 유저 성별\n",
    "    \"age\",  # 유저 나이\n",
    ")\n",
    "\n"
   ]
  },
  {
   "cell_type": "code",
   "execution_count": null,
   "metadata": {},
   "outputs": [],
   "source": [
    "\n",
    "def import_data(data_path=DATA_FILE):\n",
    "    \"\"\"\n",
    "    Req. 1-1-1 음식점 데이터 파일을 읽어서 Pandas DataFrame 형태로 저장합니다\n",
    "    \"\"\"\n",
    "\n",
    "\n",
    "    try:\n",
    "        with open(data_path, encoding=\"utf-8\") as f:\n",
    "            data = json.loads(f.read())\n",
    "    except FileNotFoundError as e:\n",
    "        print(f\"`{data_path}` 가 존재하지 않습니다.\")\n",
    "        exit(1)\n",
    "#     print('=======================json_loads=====================')\n",
    "#     test = pd.DataFrame(data=data)\n",
    "#     print(test['review_list'])\n",
    "#     print('=======================json_loads=====================')\n",
    "\n",
    "    stores = []  # 음식점 테이블\n",
    "    reviews = []  # 리뷰 테이블\n",
    "    menus = [] # 메뉴 테이블\n",
    "    users = [] # 유저 테이블\n",
    "    \n",
    "    idx = 0\n",
    "    for d in data:\n",
    "\n",
    "        categories = [c[\"category\"] for c in d[\"category_list\"]]\n",
    "        stores.append(\n",
    "            [\n",
    "                d[\"id\"],\n",
    "                d[\"name\"],\n",
    "                d[\"branch\"],\n",
    "                d[\"area\"],\n",
    "                d[\"tel\"],\n",
    "                d[\"address\"],\n",
    "                d[\"latitude\"],\n",
    "                d[\"longitude\"],\n",
    "                \"|\".join(categories),\n",
    "            ]\n",
    "        )\n",
    "\n",
    "        for review in d[\"review_list\"]:\n",
    "            r = review[\"review_info\"]\n",
    "            u = review[\"writer_info\"]\n",
    "\n",
    "            reviews.append(\n",
    "                [r[\"id\"], d[\"id\"], u[\"id\"], r[\"score\"], r[\"content\"], r[\"reg_time\"]]\n",
    "            )\n",
    "            \n",
    "            users.append(\n",
    "                [u[\"id\"], u[\"gender\"], 2021-int(u[\"born_year\"])]\n",
    "            )\n",
    "        \n",
    "        for m in d[\"menu_list\"]:\n",
    "            idx += 1\n",
    "            menus.append(\n",
    "                [str(idx), d[\"id\"], m[\"menu\"], m[\"price\"]]\n",
    "            )\n",
    "    store_frame = pd.DataFrame(data=stores, columns=store_columns)\n",
    "    review_frame = pd.DataFrame(data=reviews, columns=review_columns)\n",
    "    user_frame = pd.DataFrame(data=users, columns=user_columns)\n",
    "    menu_frame = pd.DataFrame(data=menus, columns=menu_columns)\n",
    "    \n",
    "\n",
    "    return {\"stores\": store_frame, \"reviews\": review_frame, \"users\":user_frame, \"menus\":menu_frame,}\n",
    "\n",
    "\n",
    "def dump_dataframes(dataframes):\n",
    "    pd.to_pickle(dataframes, DUMP_FILE)\n",
    "\n",
    "\n",
    "def load_dataframes():\n",
    "    return pd.read_pickle(DUMP_FILE)\n",
    "\n",
    "def main():\n",
    "\n",
    "    print(\"[*] Parsing data...\")\n",
    "    data = import_data()\n",
    "    print(\"[+] Done\")\n",
    "\n",
    "    print(\"[*] Dumping data...\")\n",
    "    dump_dataframes(data)\n",
    "    print(\"[+] Done\\n\")\n",
    "\n",
    "    data = load_dataframes()\n",
    "\n",
    "    term_w = shutil.get_terminal_size()[0] - 1\n",
    "    separater = \"-\" * term_w\n",
    "\n",
    "    print(\"[음식점]\")\n",
    "    print(f\"{separater}\\n\")\n",
    "    print(data[\"stores\"].head(20))\n",
    "    print(f\"\\n{separater}\\n\\n\")\n",
    "\n",
    "    print(\"[리뷰]\")\n",
    "    print(f\"{separater}\\n\")\n",
    "    print(data[\"reviews\"].head(20))\n",
    "    print(f\"\\n{separater}\\n\\n\")\n",
    "\n",
    "    print(\"[메뉴]\")\n",
    "    print(f\"{separater}\\n\")\n",
    "    print(data[\"menus\"].head(20))\n",
    "    print(f\"\\n{separater}\\n\\n\")\n",
    "        \n",
    "    \n",
    "    print(\"[유저]\")\n",
    "    print(f\"{separater}\\n\")\n",
    "    print(data[\"users\"].head(20))\n",
    "    print(f\"\\n{separater}\\n\\n\")\n",
    "\n",
    "    \n",
    "    \n",
    "\n",
    "if __name__ == \"__main__\":\n",
    "    data = load_dataframes()\n"
   ]
  },
  {
   "cell_type": "code",
   "execution_count": null,
   "metadata": {},
   "outputs": [],
   "source": [
    "users = data[\"users\"]\n",
    "reviews = data[\"reviews\"]"
   ]
  },
  {
   "cell_type": "code",
   "execution_count": null,
   "metadata": {},
   "outputs": [],
   "source": [
    "stores_reviews = pd.merge(\n",
    "reviews, users, left_on=\"user\", right_on=\"id\"\n",
    ")"
   ]
  },
  {
   "cell_type": "code",
   "execution_count": null,
   "metadata": {},
   "outputs": [],
   "source": [
    "stores_reviews = stores_reviews.drop_duplicates()\n",
    "stores_reviews"
   ]
  },
  {
   "cell_type": "code",
   "execution_count": null,
   "metadata": {},
   "outputs": [],
   "source": [
    "df = pd.merge(\n",
    "stores, stores_reviews, left_on=\"id\", right_on=\"store\"\n",
    ")"
   ]
  },
  {
   "cell_type": "code",
   "execution_count": null,
   "metadata": {},
   "outputs": [],
   "source": [
    "df.columns # big_cate 있는지 확인\n",
    "df"
   ]
  },
  {
   "cell_type": "code",
   "execution_count": null,
   "metadata": {},
   "outputs": [],
   "source": [
    "df = df[[\"user\", \"big_cate\",\"score\"]] # big_cate 이거를 detail, map 등 라이프스타일 적용해줘요!"
   ]
  },
  {
   "cell_type": "code",
   "execution_count": null,
   "metadata": {},
   "outputs": [],
   "source": [
    "# 테이블을 딕셔너리로 만들기\n",
    "def recur_dict(frame):\n",
    "    if len(frame.columns) == 1:\n",
    "        if frame.values.size == 1 : return frame.values[0][0]\n",
    "        return frame.values.squeeze()\n",
    "    grouped = frame.groupby(frame.columns[0])\n",
    "    d = {k : recur_dict(g.iloc[:, 1:]) for k, g in grouped}\n",
    "    return d"
   ]
  },
  {
   "cell_type": "code",
   "execution_count": null,
   "metadata": {},
   "outputs": [],
   "source": [
    "df_to_dict = recur_dict(df)"
   ]
  },
  {
   "cell_type": "code",
   "execution_count": null,
   "metadata": {},
   "outputs": [],
   "source": [
    "df_to_dict"
   ]
  },
  {
   "cell_type": "code",
   "execution_count": null,
   "metadata": {},
   "outputs": [],
   "source": [
    "# 사용자 목록, 음식점 목록 리스트에 담기\n",
    "name_list = [] # 사용자 목록 # 중복 불가\n",
    "store_set = set() # 화장품 목록을 담을 set # 중복 가능\n",
    "\n",
    "# 사용자 수만큼 반복함\n",
    "for user_key in df_to_dict:\n",
    "    name_list.append(user_key)\n",
    "    # 현재 사용자가 리뷰를 남긴 가게 목록을 set에 담는다.\n",
    "    for store_key in df_to_dict[user_key]:\n",
    "        store_set.add(store_key)\n"
   ]
  },
  {
   "cell_type": "code",
   "execution_count": null,
   "metadata": {},
   "outputs": [],
   "source": [
    "store_set"
   ]
  },
  {
   "cell_type": "code",
   "execution_count": null,
   "metadata": {},
   "outputs": [],
   "source": [
    "store_list = list(store_set)"
   ]
  },
  {
   "cell_type": "code",
   "execution_count": null,
   "metadata": {},
   "outputs": [],
   "source": [
    "# CF 추천시스템에 사용할 rating 추천 딕셔너리 만들기(유저번호, 가게이름, 평점, 카테고리)"
   ]
  },
  {
   "cell_type": "code",
   "execution_count": null,
   "metadata": {},
   "outputs": [],
   "source": [
    "rating_dic = {\n",
    "    'user'  :[],\n",
    "    'store_name':[],\n",
    "     'rating':[],\n",
    "}\n",
    "# 사용자 수 만큼 반복하는 알고리즘\n",
    "for name_key in df_to_dict:\n",
    "    for store_key in df_to_dict[name_key]:\n",
    "        a1  = name_list.index(name_key)\n",
    "        a2 = store_list.index(store_key)\n",
    "        a3 = df_to_dict[name_key][store_key]\n",
    "        \n",
    "        rating_dic[\"user\"].append(a1)\n",
    "        rating_dic[\"store_name\"].append(a2)\n",
    "        rating_dic[\"rating\"].append(a3)"
   ]
  },
  {
   "cell_type": "code",
   "execution_count": null,
   "metadata": {},
   "outputs": [],
   "source": [
    "# 사용자 - 가게 - 평점 출력 => 나중에는 가게 말고 big 카테고리 기준으로 나눠서 카테고리 나눠볼까함\n",
    "# 숫자가 같아야 함 세개가\n",
    "print(len(rating_dic[\"user\"]))\n",
    "print(len(rating_dic[\"store_name\"]))\n",
    "print(len(rating_dic[\"rating\"]))"
   ]
  },
  {
   "cell_type": "code",
   "execution_count": null,
   "metadata": {},
   "outputs": [],
   "source": [
    "# numpy의 array 형태이므로 중간에 배열로 들어감 -> tolist 해서 평균값으로 대체해야\n",
    "\n",
    "temp = [] #  63번쨰\n",
    "for i in range(1327): # 위에 프린트로 출력한 len으로 바꿔야\n",
    "#     print(i)\n",
    "    temp.append(rating_dic[\"rating\"][i].tolist())\n"
   ]
  },
  {
   "cell_type": "code",
   "execution_count": null,
   "metadata": {},
   "outputs": [],
   "source": [
    "for i in range(1327): # 위에 프린트로 출력한 len으로 바꿔야\n",
    "    if type(temp[i]) == list:\n",
    "        a = 0\n",
    "        l = len(temp[i])\n",
    "#         print(l)\n",
    "        for j in range(l):\n",
    "            a += temp[i][j]\n",
    "        a = a / l\n",
    "        temp[i] = a\n",
    "        "
   ]
  },
  {
   "cell_type": "code",
   "execution_count": null,
   "metadata": {},
   "outputs": [],
   "source": [
    "rating_dic[\"rating\"] = temp"
   ]
  },
  {
   "cell_type": "code",
   "execution_count": null,
   "metadata": {},
   "outputs": [],
   "source": [
    "print(len(rating_dic[\"user\"]))\n",
    "print(len(rating_dic[\"store_name\"]))\n",
    "print(len(rating_dic[\"rating\"]))"
   ]
  },
  {
   "cell_type": "code",
   "execution_count": null,
   "metadata": {},
   "outputs": [],
   "source": [
    "# 데이터 셋 만들기\n",
    "df = pd.DataFrame(rating_dic)\n",
    "df"
   ]
  },
  {
   "cell_type": "code",
   "execution_count": null,
   "metadata": {},
   "outputs": [],
   "source": [
    "# 딕셔너리 바탕으로 사용자 이름 "
   ]
  },
  {
   "cell_type": "code",
   "execution_count": null,
   "metadata": {},
   "outputs": [],
   "source": [
    "import surprise\n",
    "# 데이터를 읽어들이는 객체 생성(rating_scale=0~5)\n",
    "reader = surprise.Reader(rating_scale=(0, 5))\n",
    "reader"
   ]
  },
  {
   "cell_type": "code",
   "execution_count": null,
   "metadata": {},
   "outputs": [],
   "source": [
    "import surprise\n",
    "from surprise.model_selection import cross_validate\n",
    "from surprise import NormalPredictor\n",
    "# surprise에서 사용할 데이터 셋을 구성하는데 필요한 이름\n",
    "# 데이터가 저장되어 있는 딕셔너리의 컬럼 이름\n",
    "# 첫번째 -> user, 두번째 -> store, 세번째 -> rating\n",
    "col_list = [\"user\", \"store_name\", \"rating\"]\n",
    "data = surprise.Dataset.load_from_df(df[col_list], reader)\n",
    "# print(col_list)\n",
    "print(data)\n",
    "# cross_validate(NormalPredictor(), data, cv=3)"
   ]
  },
  {
   "cell_type": "code",
   "execution_count": null,
   "metadata": {},
   "outputs": [],
   "source": [
    "# 학습\n",
    "trainset = data.build_full_trainset()\n",
    "option = {\"name\":\"pearson\"} # 피어슨 유사도 사용\n",
    "algo = surprise.KNNBasic(sim_options=option) #surprise.KNNBasic사용\n",
    "algo.fit(trainset)\n",
    "# surprise.evaluate(algo, data)"
   ]
  },
  {
   "cell_type": "code",
   "execution_count": null,
   "metadata": {},
   "outputs": [],
   "source": [
    "# print(len(name_list)) \n",
    "print(name_list) # 유저 번호 리스트 - 여기에 있는 번호로 넣어야\n"
   ]
  },
  {
   "cell_type": "code",
   "execution_count": null,
   "metadata": {},
   "outputs": [],
   "source": [
    "for i in range(len(name_list)):\n",
    "    name_list[i] = str(name_list[i])"
   ]
  },
  {
   "cell_type": "code",
   "execution_count": null,
   "metadata": {},
   "outputs": [],
   "source": [
    "# 최종적으로 예측하는 CF 추천시스템\n",
    "who = int(input(\"유저 번호를 입력하세요\"))\n",
    "print(\"\\n\")\n",
    "who = str(who)\n",
    "index = name_list.index(who)\n",
    "print(index) # 인덱스인것주의\n",
    "print(\"=============\")\n",
    "result = algo.get_neighbors(index, k=5) # k 조정\n",
    "print(\"당신과 비슷한 입맛을 가진 유저는? : \", result) # 입맛이 비슷한 열명의 사용자 번호가 아니고, 인덱스인듯!\n",
    "print(\"\\n\")\n",
    "\n",
    "# df : rating한 df \n",
    "# user에게 추천하는 음식점\n",
    "print(\"추천 드리는 카테고리 : \")\n",
    "for r1 in result:\n",
    "    max_rating=data.df[data.df[\"user\"]==r1][\"rating\"].max()\n",
    "    # 점수가 비등비등해서 max라고 해도 눈에 띄게 잘 나뉘지는 않음. 그래서 최고점 받은애들만 선별\n",
    "#     store_id = data.df[(data.df[\"rating\"]==max_rating)&(data.df[\"user\"]==r1)][\"store_name\"].values\n",
    "    store_id = data.df[(data.df[\"rating\"]==5)&(data.df[\"user\"]==r1)][\"store_name\"].values\n",
    "#     print(store_id)\n",
    "\n",
    "    # 추천해주는 가게들 목록\n",
    "    for store_item in store_id:\n",
    "        print(store_list[store_item])\n"
   ]
  },
  {
   "cell_type": "code",
   "execution_count": null,
   "metadata": {},
   "outputs": [],
   "source": []
  },
  {
   "cell_type": "code",
   "execution_count": null,
   "metadata": {},
   "outputs": [],
   "source": []
  },
  {
   "cell_type": "code",
   "execution_count": null,
   "metadata": {},
   "outputs": [],
   "source": []
  }
 ],
 "metadata": {
  "kernelspec": {
   "display_name": "Python 3",
   "language": "python",
   "name": "python3"
  },
  "language_info": {
   "codemirror_mode": {
    "name": "ipython",
    "version": 3
   },
   "file_extension": ".py",
   "mimetype": "text/x-python",
   "name": "python",
   "nbconvert_exporter": "python",
   "pygments_lexer": "ipython3",
   "version": "3.6.5"
  }
 },
 "nbformat": 4,
 "nbformat_minor": 2
}
