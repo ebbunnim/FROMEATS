{
 "cells": [
  {
   "cell_type": "code",
   "execution_count": null,
   "metadata": {},
   "outputs": [],
   "source": [
    "!pip3 install pandas==0.23.4"
   ]
  },
  {
   "cell_type": "code",
   "execution_count": null,
   "metadata": {},
   "outputs": [],
   "source": [
    "!pip install msgpack"
   ]
  },
  {
   "cell_type": "code",
   "execution_count": null,
   "metadata": {},
   "outputs": [],
   "source": [
    "!pip install --upgrade setuptools "
   ]
  },
  {
   "cell_type": "code",
   "execution_count": null,
   "metadata": {},
   "outputs": [],
   "source": []
  },
  {
   "cell_type": "code",
   "execution_count": null,
   "metadata": {},
   "outputs": [],
   "source": [
    "!python -m pip install --upgrade pip"
   ]
  },
  {
   "cell_type": "code",
   "execution_count": null,
   "metadata": {},
   "outputs": [],
   "source": [
    "!pip install --upgrade h5py"
   ]
  },
  {
   "cell_type": "code",
   "execution_count": null,
   "metadata": {},
   "outputs": [],
   "source": []
  },
  {
   "cell_type": "code",
   "execution_count": 1,
   "metadata": {},
   "outputs": [
    {
     "name": "stdout",
     "output_type": "stream",
     "text": [
      "0                          [윗길, 새롭다, 호주, 쉐프, 요리, 호주, 레스토랑]\n",
      "1                                 [샌드위치, 내용물, 알차다, 가성, 추천]\n",
      "2        [홈플러스, 푸드코트, 계란찜, 정식, 사진, 치즈, 넘치다, 흐르다, 계란찜, 메...\n",
      "3                   [5년, 전에, 가보다, 별로, 단체, 차려, 별로, 지금, 어떻다]\n",
      "4                                     [친구, 간단하다, 스끼, 부족하다]\n",
      "                               ...                        \n",
      "91391    [작다, 아기자기하다, 예쁘다, 국적, 아늑하다, 주변, 맛집, 저렴하다, 플레이,...\n",
      "91392    [친구, 카레, 이십분, 기다리다, 가게, 좁다, 거기, 다가, 알바생, 남자, 하...\n",
      "91394                           [닭발, 소스, 맵다, 중독, 마지막, 볶음밥]\n",
      "91395                                          [소고기, 배부르다]\n",
      "91396    [고기, 뷔페, 샐러드, 사이드, 메뉴, 아이스크림, 트레이드마크, 호박, 식혜, ...\n",
      "Name: content, Length: 81266, dtype: object\n"
     ]
    }
   ],
   "source": [
    "import pickle\n",
    "import pandas as pd\n",
    "\n",
    "f = open(\"../data/gayoung.pickle\", \"rb\")\n",
    "data= pickle.load(f)\n",
    "f.close()\n",
    "print(data[\"content\"])\n",
    "\n",
    "data.to_excel(\"../data/word.xlsx\")"
   ]
  },
  {
   "cell_type": "code",
   "execution_count": 2,
   "metadata": {},
   "outputs": [
    {
     "name": "stdout",
     "output_type": "stream",
     "text": [
      "        store  store_name branch    user  \\\n",
      "0          15         써리힐          68632   \n",
      "1          18    진삼미 샌드위치         389728   \n",
      "2          19  한옥마을 전주비빔밥    향남점   68716   \n",
      "3          37       007식당         774353   \n",
      "4          38       010수산         115682   \n",
      "...       ...         ...    ...     ...   \n",
      "81261  360493     지구촌 가정식         419534   \n",
      "81262  360493     지구촌 가정식           5239   \n",
      "81263  360505        지군포차         198050   \n",
      "81264  360514          지글         190766   \n",
      "81265  360514          지글         201564   \n",
      "\n",
      "                                                 content score     big_cate  \n",
      "0          ['윗길', '새롭다', '호주', '쉐프', '요리', '호주', '레스토랑']     5  피자,파스타,스테이크  \n",
      "1                     ['샌드위치', '내용물', '알차다', '가성', '추천']     5           카페  \n",
      "2      ['홈플러스', '푸드코트', '계란찜', '정식', '사진', '치즈', '넘치다...     4           한식  \n",
      "3      ['5년', '전에', '가보다', '별로', '단체', '차려', '별로', '지...     2           한식  \n",
      "4                           ['친구', '간단하다', '스끼', '부족하다']     3     돈가스,회,일식  \n",
      "...                                                  ...   ...          ...  \n",
      "81261  ['작다', '아기자기하다', '예쁘다', '국적', '아늑하다', '주변', '맛...     5               \n",
      "81262  ['친구', '카레', '이십분', '기다리다', '가게', '좁다', '거기', ...     3               \n",
      "81263             ['닭발', '소스', '맵다', '중독', '마지막', '볶음밥']     4            술  \n",
      "81264                                    ['소고기', '배부르다']     5               \n",
      "81265  ['고기', '뷔페', '샐러드', '사이드', '메뉴', '아이스크림', '트레이...     4               \n",
      "\n",
      "[81266 rows x 7 columns]\n"
     ]
    }
   ],
   "source": [
    "import json\n",
    "import csv\n",
    "import pandas as pd\n",
    "import numpy as np\n",
    "import matplotlib.pyplot as plt\n",
    "import os\n",
    "import shutil\n",
    "import io\n",
    "\n",
    "\n",
    "store_columns = (\n",
    "    \"store\",  # 음식점 고유번호\n",
    "    \"store_name\",  # 음식점 이름\n",
    "    \"branch\",  # 음식점 지점 여부\n",
    "    \"user\",  # 음식점 위치\n",
    "    \"content\",  # 음식점 번호\n",
    "    \"score\",  # 음식점 주소\n",
    "    \"big_cate\",  # 음식점 위도  # 위치기반 음식점 추천할 때 사용\n",
    ")\n",
    "\n",
    "data = []  # 음식점 테이블\n",
    "with open('../data/word_csv.csv') as f:\n",
    "    for row in csv.DictReader(f):\n",
    "        data.append(row)\n",
    "\n",
    "stores = json.dumps(data)\n",
    "\n",
    "stores = []  # 음식점 테이블\n",
    "\n",
    "for d in data:\n",
    "\n",
    "    # review_cnt = \n",
    "    stores.append(\n",
    "        [\n",
    "            d[\"store\"],\n",
    "            d[\"store_name\"],\n",
    "            d[\"branch\"],\n",
    "            d[\"user\"],\n",
    "            d[\"content\"],\n",
    "            d[\"score\"],\n",
    "            d[\"big_cate\"],\n",
    "        ]\n",
    "    )\n",
    "\n",
    "store_new = pd.DataFrame(data=stores, columns=store_columns)\n",
    "\n",
    "print(store_new)"
   ]
  },
  {
   "cell_type": "code",
   "execution_count": null,
   "metadata": {},
   "outputs": [],
   "source": [
    "data_store_columns = (\n",
    "    \"id\",  # 음식점 고유번호\n",
    "    \"store_name\",  # 음식점 이름\n",
    "    \"branch\",  # 음식점 지점 여부\n",
    "    \"area\",  # 음식점 위치\n",
    "    \"tel\",  # 음식점 번호\n",
    "    \"address\",  # 음식점 주소\n",
    "    \"latitude\",  # 음식점 위도  # 위치기반 음식점 추천할 때 사용\n",
    "    \"longitude\",  # 음식점 경도  # 위치기반 음식점 추천할 때 사용\n",
    "    \"category\",  # 음식점 카테고리\n",
    "    \"review_cnt\",  # 리뷰 갯수\n",
    ")\n",
    "\n",
    "data_data = []  # 음식점 테이블\n",
    "with open('../data/store.csv') as f:\n",
    "    for row in csv.DictReader(f):\n",
    "        data_data.append(row)\n",
    "\n",
    "data_stores = json.dumps(data)\n",
    "\n",
    "data_stores = []  # 음식점 테이블\n",
    "\n",
    "for d in data_data:\n",
    "\n",
    "    # review_cnt = \n",
    "    data_stores.append(\n",
    "        [\n",
    "            d[\"id\"],\n",
    "            d[\"store_name\"],\n",
    "            d[\"branch\"],\n",
    "            d[\"area\"],\n",
    "            d[\"tel\"],\n",
    "            d[\"address\"],\n",
    "            d[\"latitude\"],\n",
    "            d[\"longitude\"],\n",
    "            d[\"category\"],\n",
    "            d[\"review_cnt\"]\n",
    "        ]\n",
    "    )\n",
    "\n",
    "data_store_new = pd.DataFrame(data=data_stores, columns=data_store_columns)\n",
    "\n",
    "print(data_store_new)"
   ]
  },
  {
   "cell_type": "code",
   "execution_count": null,
   "metadata": {},
   "outputs": [],
   "source": [
    "final = pd.merge(store_new, data_store_new, left_on=\"store\", right_on=\"id\")\n",
    "# final.head()\n",
    "# final[\"store\"]\n",
    "# print(final)\n"
   ]
  },
  {
   "cell_type": "code",
   "execution_count": 3,
   "metadata": {},
   "outputs": [
    {
     "name": "stdout",
     "output_type": "stream",
     "text": [
      "        store store_name_x    user  \\\n",
      "0          15          써리힐   68632   \n",
      "1          18     진삼미 샌드위치  389728   \n",
      "2          19   한옥마을 전주비빔밥   68716   \n",
      "3          37        007식당  774353   \n",
      "4          38        010수산  115682   \n",
      "...       ...          ...     ...   \n",
      "81261  360493      지구촌 가정식  419534   \n",
      "81262  360493      지구촌 가정식    5239   \n",
      "81263  360505         지군포차  198050   \n",
      "81264  360514           지글  190766   \n",
      "81265  360514           지글  201564   \n",
      "\n",
      "                                                 content score     big_cate  \\\n",
      "0          ['윗길', '새롭다', '호주', '쉐프', '요리', '호주', '레스토랑']     5  피자,파스타,스테이크   \n",
      "1                     ['샌드위치', '내용물', '알차다', '가성', '추천']     5           카페   \n",
      "2      ['홈플러스', '푸드코트', '계란찜', '정식', '사진', '치즈', '넘치다...     4           한식   \n",
      "3      ['5년', '전에', '가보다', '별로', '단체', '차려', '별로', '지...     2           한식   \n",
      "4                           ['친구', '간단하다', '스끼', '부족하다']     3     돈가스,회,일식   \n",
      "...                                                  ...   ...          ...   \n",
      "81261  ['작다', '아기자기하다', '예쁘다', '국적', '아늑하다', '주변', '맛...     5                \n",
      "81262  ['친구', '카레', '이십분', '기다리다', '가게', '좁다', '거기', ...     3                \n",
      "81263             ['닭발', '소스', '맵다', '중독', '마지막', '볶음밥']     4            술   \n",
      "81264                                    ['소고기', '배부르다']     5                \n",
      "81265  ['고기', '뷔페', '샐러드', '사이드', '메뉴', '아이스크림', '트레이...     4                \n",
      "\n",
      "      store_name_y branch_y      area   latitude   longitude  category  \\\n",
      "0              써리힐             부산부산진구  35.155521  129.067316    호주레스토랑   \n",
      "1         진삼미 샌드위치           전북전주시완산구  35.803488  127.115123   샌드위치|쥬스   \n",
      "2       한옥마을 전주비빔밥      향남점     경기화성시  37.130733  126.921854     전주비빔밥   \n",
      "3            007식당              전남영광군  35.355546  126.449887   굴비정식|굴비   \n",
      "4            010수산              서울강서구    37.5591     126.842        횟집   \n",
      "...            ...      ...       ...        ...         ...       ...   \n",
      "81261        지구촌가든              충남보령시    36.3297  126.561516       한정식   \n",
      "81262        지구촌가든              충남보령시    36.3297  126.561516       한정식   \n",
      "81263        지귀꼼장어           경남창원시의창구  35.245991   128.65996             \n",
      "81264           지글           경기용인시기흥구  37.277696  127.153578  고기뷔페|고기집   \n",
      "81265           지글           경기용인시기흥구  37.277696  127.153578  고기뷔페|고기집   \n",
      "\n",
      "      review_cnt  \n",
      "0              1  \n",
      "1              1  \n",
      "2              1  \n",
      "3              1  \n",
      "4              1  \n",
      "...          ...  \n",
      "81261          0  \n",
      "81262          0  \n",
      "81263          0  \n",
      "81264          1  \n",
      "81265          1  \n",
      "\n",
      "[81266 rows x 13 columns]\n"
     ]
    }
   ],
   "source": [
    "word_store_columns = (\n",
    "    \"store\",  # 음식점 고유번호\n",
    "    \"store_name_x\",  # 음식점 이름\n",
    "    \"user\",  # 음식점 지점 여부\n",
    "    \"content\",  # 음식점 위치\n",
    "    \"score\",  # 음식점 번호\n",
    "    \"big_cate\",  # 음식점 주소\n",
    "    \"store_name_y\",  # 음식점 이름\n",
    "    \"branch_y\",\n",
    "    \"area\",\n",
    "    \"latitude\",  # 음식점 위도  # 위치기반 음식점 추천할 때 사용\n",
    "    \"longitude\",  # 음식점 경도  # 위치기반 음식점 추천할 때 사용\n",
    "    \"category\",  # 음식점 카테고리\n",
    "    \"review_cnt\",  # 리뷰 갯수\n",
    ")\n",
    "\n",
    "word_data = []  # 음식점 테이블\n",
    "with open('../data/word_store_csv.csv') as f:\n",
    "    for row in csv.DictReader(f):\n",
    "        word_data.append(row)\n",
    "\n",
    "word_stores = json.dumps(data)\n",
    "\n",
    "word_stores = []  # 음식점 테이블\n",
    "\n",
    "for d in word_data:\n",
    "\n",
    "    # review_cnt = \n",
    "    word_stores.append(\n",
    "        [\n",
    "            d[\"store\"],\n",
    "            d[\"store_name_x\"],\n",
    "            d[\"user\"],\n",
    "            d[\"content\"],\n",
    "            d[\"score\"],\n",
    "            d[\"big_cate\"],\n",
    "            d[\"store_name_y\"],\n",
    "            d[\"branch_y\"],\n",
    "            d[\"area\"],\n",
    "            d[\"latitude\"],\n",
    "            d[\"longitude\"],\n",
    "            d[\"category\"],\n",
    "            d[\"review_cnt\"]\n",
    "        ]\n",
    "    )\n",
    "\n",
    "word_store_new = pd.DataFrame(data=word_stores, columns=word_store_columns)\n",
    "\n",
    "print(word_store_new)"
   ]
  },
  {
   "cell_type": "code",
   "execution_count": null,
   "metadata": {},
   "outputs": [],
   "source": [
    "final = final[[\"store\", \"store_name_x\", \"user\", \"content\", \"score\", \"area\", \"category\", \"review_cnt\"]]\n",
    "print(final.head())\n",
    "\n",
    "final.to_excel(\"../data/word_store_example0422.xlsx\")"
   ]
  },
  {
   "cell_type": "code",
   "execution_count": null,
   "metadata": {},
   "outputs": [],
   "source": []
  },
  {
   "cell_type": "code",
   "execution_count": null,
   "metadata": {},
   "outputs": [],
   "source": []
  },
  {
   "cell_type": "code",
   "execution_count": null,
   "metadata": {},
   "outputs": [],
   "source": []
  },
  {
   "cell_type": "code",
   "execution_count": null,
   "metadata": {},
   "outputs": [],
   "source": []
  },
  {
   "cell_type": "code",
   "execution_count": null,
   "metadata": {},
   "outputs": [],
   "source": []
  }
 ],
 "metadata": {
  "kernelspec": {
   "display_name": "Python 3",
   "language": "python",
   "name": "python3"
  },
  "language_info": {
   "codemirror_mode": {
    "name": "ipython",
    "version": 3
   },
   "file_extension": ".py",
   "mimetype": "text/x-python",
   "name": "python",
   "nbconvert_exporter": "python",
   "pygments_lexer": "ipython3",
   "version": "3.6.5"
  }
 },
 "nbformat": 4,
 "nbformat_minor": 2
}
